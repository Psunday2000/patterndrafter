{
 "cells": [
  {
   "cell_type": "markdown",
   "metadata": {},
   "source": [
    "# Import Necessary Libraries"
   ]
  },
  {
   "cell_type": "code",
   "execution_count": 7,
   "metadata": {},
   "outputs": [],
   "source": [
    "import numpy as np \n",
    "import torch.nn as nn\n",
    "import torch\n",
    "from torch.utils.data.dataloader import DataLoader\n",
    "import torchvision.datasets as datasets\n",
    "import torchvision.transforms as T\n",
    "from PIL import Image"
   ]
  },
  {
   "cell_type": "markdown",
   "metadata": {},
   "source": [
    "# Prepare the Dataset"
   ]
  },
  {
   "cell_type": "code",
   "execution_count": 8,
   "metadata": {},
   "outputs": [],
   "source": [
    "transforms = T.Compose([\n",
    "    T.ToTensor(),\n",
    "    T.Normalize((0.5,), (0.5,))\n",
    "])\n",
    "\n",
    "class DressDataset(torch.utils.data.Dataset):\n",
    "    def __init__(self, dataset):\n",
    "        self.dataset = dataset\n",
    "        self.indices = [i for i, (_, label) in enumerate(dataset) if label == 3]\n",
    "        \n",
    "    def __len__(self):\n",
    "        return len(self.indices)\n",
    "    \n",
    "    def __getitem__(self, idx):\n",
    "        real_idx = self.indices[idx]\n",
    "        image, label = self.dataset[real_idx]\n",
    "        return image, label\n",
    "\n",
    "data_mnist = datasets.FashionMNIST(root='.', train=True, transform=transforms, download=True)\n",
    "dress_dataset = DressDataset(data_mnist)\n",
    "\n",
    "batch_size = 32\n",
    "train_loader = DataLoader(dataset=dress_dataset, batch_size=batch_size, shuffle=True)"
   ]
  },
  {
   "cell_type": "markdown",
   "metadata": {},
   "source": [
    "# Generator Model"
   ]
  },
  {
   "cell_type": "code",
   "execution_count": 9,
   "metadata": {},
   "outputs": [],
   "source": [
    "# Generator model\n",
    "class Generator(nn.Module):\n",
    "    def __init__(self):\n",
    "        super().__init__()\n",
    "        self.label_emb = nn.Embedding(10, 10)\n",
    "        self.gen_model = nn.Sequential(\n",
    "            nn.Linear(100 + 10, 256),\n",
    "            nn.ReLU(),\n",
    "            nn.Linear(256, 512),\n",
    "            nn.ReLU(),\n",
    "            nn.Linear(512, 1024),\n",
    "            nn.ReLU(),\n",
    "            nn.Linear(1024, 784),\n",
    "            nn.Tanh()\n",
    "        )\n",
    "\n",
    "    def forward(self, x, labels):\n",
    "        label_input = self.label_emb(labels)\n",
    "        x = torch.cat((x, label_input), dim=1)\n",
    "        out = self.gen_model(x)\n",
    "        out = out.view(x.size(0), 1, 28, 28)\n",
    "        return out"
   ]
  },
  {
   "cell_type": "markdown",
   "metadata": {},
   "source": [
    "# Discriminator Model"
   ]
  },
  {
   "cell_type": "code",
   "execution_count": 10,
   "metadata": {},
   "outputs": [],
   "source": [
    "class Discriminator(nn.Module):\n",
    "    def __init__(self):\n",
    "        super().__init__()\n",
    "        self.label_emb = nn.Embedding(10, 10)\n",
    "        self.flat = nn.Flatten()\n",
    "        self.dis_model = nn.Sequential(\n",
    "            nn.Linear(784 + 10, 1024),\n",
    "            nn.ReLU(),\n",
    "            nn.Dropout(0.3),\n",
    "            nn.Linear(1024, 512),\n",
    "            nn.ReLU(),\n",
    "            nn.Dropout(0.3),\n",
    "            nn.Linear(512, 256),\n",
    "            nn.ReLU(),\n",
    "            nn.Dropout(0.3),\n",
    "            nn.Linear(256, 1),\n",
    "            nn.Sigmoid()\n",
    "        )\n",
    "\n",
    "    def forward(self, x, labels):\n",
    "        label_input = self.label_emb(labels)\n",
    "        x = self.flat(x)\n",
    "        x = torch.cat((x, label_input), dim=1)\n",
    "        out = self.dis_model(x)\n",
    "        return out\n",
    "\n",
    "# Initialize models and device\n",
    "device = torch.device('cuda' if torch.cuda.is_available() else 'cpu')\n",
    "generator = Generator().to(device)\n",
    "discriminator = Discriminator().to(device)"
   ]
  },
  {
   "cell_type": "markdown",
   "metadata": {},
   "source": [
    "# Setting model parameters"
   ]
  },
  {
   "cell_type": "code",
   "execution_count": 11,
   "metadata": {},
   "outputs": [],
   "source": [
    "lr = 0.0002\n",
    "epochs = 100\n",
    "loss_function = nn.BCELoss()\n",
    "optim_gen = torch.optim.Adam(generator.parameters(), lr=lr)\n",
    "optim_dis = torch.optim.Adam(discriminator.parameters(), lr=lr)"
   ]
  },
  {
   "cell_type": "markdown",
   "metadata": {},
   "source": [
    "# Training"
   ]
  },
  {
   "cell_type": "code",
   "execution_count": 13,
   "metadata": {},
   "outputs": [
    {
     "name": "stdout",
     "output_type": "stream",
     "text": [
      "Epoch [1/100], Discriminator Loss Real: 0.0381, Discriminator Loss Fake: 0.1619, Generator Loss: 8.1867\n",
      "Epoch [2/100], Discriminator Loss Real: 0.0909, Discriminator Loss Fake: 0.0356, Generator Loss: 6.0008\n",
      "Epoch [3/100], Discriminator Loss Real: 0.0158, Discriminator Loss Fake: 0.0027, Generator Loss: 6.7155\n",
      "Epoch [4/100], Discriminator Loss Real: 0.0095, Discriminator Loss Fake: 0.0182, Generator Loss: 5.1138\n",
      "Epoch [5/100], Discriminator Loss Real: 0.0394, Discriminator Loss Fake: 0.0098, Generator Loss: 4.9831\n",
      "Epoch [6/100], Discriminator Loss Real: 0.0660, Discriminator Loss Fake: 0.0052, Generator Loss: 6.8698\n",
      "Epoch [7/100], Discriminator Loss Real: 0.0022, Discriminator Loss Fake: 0.0384, Generator Loss: 5.1510\n",
      "Epoch [8/100], Discriminator Loss Real: 0.0267, Discriminator Loss Fake: 0.0538, Generator Loss: 3.9255\n",
      "Epoch [9/100], Discriminator Loss Real: 0.1496, Discriminator Loss Fake: 0.0646, Generator Loss: 3.8339\n",
      "Epoch [10/100], Discriminator Loss Real: 0.2797, Discriminator Loss Fake: 0.7467, Generator Loss: 2.8422\n",
      "Epoch [11/100], Discriminator Loss Real: 0.6141, Discriminator Loss Fake: 0.0302, Generator Loss: 5.0219\n",
      "Epoch [12/100], Discriminator Loss Real: 0.0323, Discriminator Loss Fake: 0.2194, Generator Loss: 3.5204\n",
      "Epoch [13/100], Discriminator Loss Real: 0.0012, Discriminator Loss Fake: 0.0964, Generator Loss: 4.6017\n",
      "Epoch [14/100], Discriminator Loss Real: 0.0941, Discriminator Loss Fake: 0.1212, Generator Loss: 2.7885\n",
      "Epoch [15/100], Discriminator Loss Real: 0.2688, Discriminator Loss Fake: 0.1240, Generator Loss: 2.2942\n",
      "Epoch [16/100], Discriminator Loss Real: 0.3733, Discriminator Loss Fake: 0.0339, Generator Loss: 3.7776\n",
      "Epoch [17/100], Discriminator Loss Real: 0.0176, Discriminator Loss Fake: 0.5106, Generator Loss: 2.2232\n",
      "Epoch [18/100], Discriminator Loss Real: 0.4393, Discriminator Loss Fake: 0.1597, Generator Loss: 2.5368\n",
      "Epoch [19/100], Discriminator Loss Real: 0.2483, Discriminator Loss Fake: 0.2265, Generator Loss: 2.3878\n",
      "Epoch [20/100], Discriminator Loss Real: 0.2209, Discriminator Loss Fake: 0.3151, Generator Loss: 2.1580\n",
      "Epoch [21/100], Discriminator Loss Real: 0.6762, Discriminator Loss Fake: 0.3982, Generator Loss: 1.6884\n",
      "Epoch [22/100], Discriminator Loss Real: 0.3284, Discriminator Loss Fake: 0.2799, Generator Loss: 2.4158\n",
      "Epoch [23/100], Discriminator Loss Real: 0.5514, Discriminator Loss Fake: 0.1546, Generator Loss: 2.1554\n",
      "Epoch [24/100], Discriminator Loss Real: 0.1218, Discriminator Loss Fake: 0.1940, Generator Loss: 2.3458\n",
      "Epoch [25/100], Discriminator Loss Real: 0.1698, Discriminator Loss Fake: 0.3002, Generator Loss: 1.7376\n",
      "Epoch [26/100], Discriminator Loss Real: 0.2547, Discriminator Loss Fake: 0.2693, Generator Loss: 1.7991\n",
      "Epoch [27/100], Discriminator Loss Real: 0.4191, Discriminator Loss Fake: 0.3282, Generator Loss: 1.8224\n",
      "Epoch [28/100], Discriminator Loss Real: 0.2945, Discriminator Loss Fake: 0.2710, Generator Loss: 2.1779\n",
      "Epoch [29/100], Discriminator Loss Real: 0.2932, Discriminator Loss Fake: 0.3240, Generator Loss: 1.7121\n",
      "Epoch [30/100], Discriminator Loss Real: 0.5248, Discriminator Loss Fake: 0.3229, Generator Loss: 1.6862\n",
      "Epoch [31/100], Discriminator Loss Real: 0.3870, Discriminator Loss Fake: 0.4632, Generator Loss: 1.7265\n",
      "Epoch [32/100], Discriminator Loss Real: 0.3537, Discriminator Loss Fake: 0.4617, Generator Loss: 1.6204\n",
      "Epoch [33/100], Discriminator Loss Real: 0.2734, Discriminator Loss Fake: 0.6305, Generator Loss: 1.5957\n",
      "Epoch [34/100], Discriminator Loss Real: 0.5404, Discriminator Loss Fake: 0.4668, Generator Loss: 1.8043\n",
      "Epoch [35/100], Discriminator Loss Real: 0.3537, Discriminator Loss Fake: 0.5533, Generator Loss: 1.6054\n",
      "Epoch [36/100], Discriminator Loss Real: 0.3644, Discriminator Loss Fake: 0.6747, Generator Loss: 1.3716\n",
      "Epoch [37/100], Discriminator Loss Real: 0.4124, Discriminator Loss Fake: 0.6334, Generator Loss: 0.9876\n",
      "Epoch [38/100], Discriminator Loss Real: 0.3101, Discriminator Loss Fake: 0.3931, Generator Loss: 1.5630\n",
      "Epoch [39/100], Discriminator Loss Real: 0.2920, Discriminator Loss Fake: 0.5088, Generator Loss: 1.5892\n",
      "Epoch [40/100], Discriminator Loss Real: 0.4809, Discriminator Loss Fake: 0.2871, Generator Loss: 1.8561\n",
      "Epoch [41/100], Discriminator Loss Real: 0.1908, Discriminator Loss Fake: 0.3174, Generator Loss: 1.5289\n",
      "Epoch [42/100], Discriminator Loss Real: 0.3778, Discriminator Loss Fake: 0.4928, Generator Loss: 1.6210\n",
      "Epoch [43/100], Discriminator Loss Real: 0.8609, Discriminator Loss Fake: 0.5980, Generator Loss: 1.6401\n",
      "Epoch [44/100], Discriminator Loss Real: 0.3758, Discriminator Loss Fake: 0.4894, Generator Loss: 1.1397\n",
      "Epoch [45/100], Discriminator Loss Real: 0.7782, Discriminator Loss Fake: 0.2602, Generator Loss: 1.9092\n",
      "Epoch [46/100], Discriminator Loss Real: 0.4470, Discriminator Loss Fake: 0.3986, Generator Loss: 1.5028\n",
      "Epoch [47/100], Discriminator Loss Real: 0.4305, Discriminator Loss Fake: 0.4546, Generator Loss: 1.2130\n",
      "Epoch [48/100], Discriminator Loss Real: 0.4593, Discriminator Loss Fake: 0.5288, Generator Loss: 1.2246\n",
      "Epoch [49/100], Discriminator Loss Real: 0.2748, Discriminator Loss Fake: 0.5548, Generator Loss: 1.1419\n",
      "Epoch [50/100], Discriminator Loss Real: 0.5010, Discriminator Loss Fake: 0.4687, Generator Loss: 1.5858\n",
      "Epoch [51/100], Discriminator Loss Real: 0.3468, Discriminator Loss Fake: 0.3462, Generator Loss: 1.8367\n",
      "Epoch [52/100], Discriminator Loss Real: 0.5709, Discriminator Loss Fake: 0.4777, Generator Loss: 1.5948\n",
      "Epoch [53/100], Discriminator Loss Real: 0.2380, Discriminator Loss Fake: 0.6598, Generator Loss: 1.5091\n",
      "Epoch [54/100], Discriminator Loss Real: 0.6001, Discriminator Loss Fake: 0.7797, Generator Loss: 1.0038\n",
      "Epoch [55/100], Discriminator Loss Real: 0.3713, Discriminator Loss Fake: 0.4894, Generator Loss: 1.6623\n",
      "Epoch [56/100], Discriminator Loss Real: 0.3856, Discriminator Loss Fake: 0.6936, Generator Loss: 1.2098\n",
      "Epoch [57/100], Discriminator Loss Real: 0.6196, Discriminator Loss Fake: 0.4641, Generator Loss: 1.1235\n",
      "Epoch [58/100], Discriminator Loss Real: 0.4009, Discriminator Loss Fake: 0.4634, Generator Loss: 1.3120\n",
      "Epoch [59/100], Discriminator Loss Real: 0.9907, Discriminator Loss Fake: 0.5108, Generator Loss: 1.2275\n",
      "Epoch [60/100], Discriminator Loss Real: 0.6501, Discriminator Loss Fake: 0.5802, Generator Loss: 1.0099\n",
      "Epoch [61/100], Discriminator Loss Real: 0.5385, Discriminator Loss Fake: 0.3594, Generator Loss: 1.4950\n",
      "Epoch [62/100], Discriminator Loss Real: 0.3681, Discriminator Loss Fake: 0.7439, Generator Loss: 1.1284\n",
      "Epoch [63/100], Discriminator Loss Real: 0.4729, Discriminator Loss Fake: 0.5574, Generator Loss: 1.0779\n",
      "Epoch [64/100], Discriminator Loss Real: 0.4237, Discriminator Loss Fake: 0.4730, Generator Loss: 1.3688\n",
      "Epoch [65/100], Discriminator Loss Real: 0.7198, Discriminator Loss Fake: 0.7068, Generator Loss: 1.0006\n",
      "Epoch [66/100], Discriminator Loss Real: 0.7223, Discriminator Loss Fake: 0.8772, Generator Loss: 0.7596\n",
      "Epoch [67/100], Discriminator Loss Real: 0.7352, Discriminator Loss Fake: 0.5374, Generator Loss: 1.3637\n",
      "Epoch [68/100], Discriminator Loss Real: 0.4297, Discriminator Loss Fake: 0.5868, Generator Loss: 1.1546\n",
      "Epoch [69/100], Discriminator Loss Real: 0.3326, Discriminator Loss Fake: 0.5226, Generator Loss: 1.1056\n",
      "Epoch [70/100], Discriminator Loss Real: 0.5032, Discriminator Loss Fake: 0.6131, Generator Loss: 0.9666\n",
      "Epoch [71/100], Discriminator Loss Real: 0.4557, Discriminator Loss Fake: 0.6713, Generator Loss: 0.9943\n",
      "Epoch [72/100], Discriminator Loss Real: 1.0195, Discriminator Loss Fake: 0.7264, Generator Loss: 1.0777\n",
      "Epoch [73/100], Discriminator Loss Real: 0.5324, Discriminator Loss Fake: 0.8435, Generator Loss: 1.1123\n",
      "Epoch [74/100], Discriminator Loss Real: 0.3265, Discriminator Loss Fake: 0.7424, Generator Loss: 0.9718\n",
      "Epoch [75/100], Discriminator Loss Real: 0.4994, Discriminator Loss Fake: 0.7739, Generator Loss: 0.8738\n",
      "Epoch [76/100], Discriminator Loss Real: 0.6314, Discriminator Loss Fake: 0.5940, Generator Loss: 1.1738\n",
      "Epoch [77/100], Discriminator Loss Real: 0.5583, Discriminator Loss Fake: 0.4954, Generator Loss: 1.2430\n",
      "Epoch [78/100], Discriminator Loss Real: 0.4811, Discriminator Loss Fake: 0.5227, Generator Loss: 1.3224\n",
      "Epoch [79/100], Discriminator Loss Real: 0.7178, Discriminator Loss Fake: 0.7684, Generator Loss: 0.9755\n",
      "Epoch [80/100], Discriminator Loss Real: 0.5027, Discriminator Loss Fake: 0.3779, Generator Loss: 1.4305\n",
      "Epoch [81/100], Discriminator Loss Real: 0.4305, Discriminator Loss Fake: 0.4295, Generator Loss: 1.4230\n",
      "Epoch [82/100], Discriminator Loss Real: 0.6658, Discriminator Loss Fake: 0.6132, Generator Loss: 1.0034\n",
      "Epoch [83/100], Discriminator Loss Real: 0.3849, Discriminator Loss Fake: 0.5462, Generator Loss: 1.4111\n",
      "Epoch [84/100], Discriminator Loss Real: 0.6784, Discriminator Loss Fake: 0.6462, Generator Loss: 0.8831\n",
      "Epoch [85/100], Discriminator Loss Real: 0.8239, Discriminator Loss Fake: 0.6644, Generator Loss: 1.1205\n",
      "Epoch [86/100], Discriminator Loss Real: 0.7115, Discriminator Loss Fake: 0.5521, Generator Loss: 1.0460\n",
      "Epoch [87/100], Discriminator Loss Real: 0.5695, Discriminator Loss Fake: 0.5580, Generator Loss: 1.0778\n",
      "Epoch [88/100], Discriminator Loss Real: 0.6248, Discriminator Loss Fake: 0.7422, Generator Loss: 1.1220\n",
      "Epoch [89/100], Discriminator Loss Real: 0.7073, Discriminator Loss Fake: 0.6212, Generator Loss: 1.2104\n",
      "Epoch [90/100], Discriminator Loss Real: 0.5601, Discriminator Loss Fake: 0.6412, Generator Loss: 0.8960\n",
      "Epoch [91/100], Discriminator Loss Real: 0.5261, Discriminator Loss Fake: 0.7419, Generator Loss: 0.9887\n",
      "Epoch [92/100], Discriminator Loss Real: 0.4999, Discriminator Loss Fake: 0.6718, Generator Loss: 0.9290\n",
      "Epoch [93/100], Discriminator Loss Real: 0.7394, Discriminator Loss Fake: 0.4620, Generator Loss: 0.9237\n",
      "Epoch [94/100], Discriminator Loss Real: 0.5465, Discriminator Loss Fake: 0.5302, Generator Loss: 1.1737\n",
      "Epoch [95/100], Discriminator Loss Real: 0.6565, Discriminator Loss Fake: 0.5917, Generator Loss: 0.9781\n",
      "Epoch [96/100], Discriminator Loss Real: 0.8413, Discriminator Loss Fake: 0.4758, Generator Loss: 1.3253\n",
      "Epoch [97/100], Discriminator Loss Real: 0.4826, Discriminator Loss Fake: 0.7598, Generator Loss: 0.7983\n",
      "Epoch [98/100], Discriminator Loss Real: 0.4934, Discriminator Loss Fake: 0.6752, Generator Loss: 0.8424\n",
      "Epoch [99/100], Discriminator Loss Real: 0.5441, Discriminator Loss Fake: 0.4029, Generator Loss: 1.1651\n",
      "Epoch [100/100], Discriminator Loss Real: 0.4689, Discriminator Loss Fake: 0.6250, Generator Loss: 0.8021\n"
     ]
    }
   ],
   "source": [
    "# Training loop\n",
    "for epoch in range(epochs):\n",
    "    for n, (input_data, labels) in enumerate(train_loader):\n",
    "        input_data = input_data.to(device)\n",
    "        labels = labels.to(device)\n",
    "\n",
    "        # Create ones for real and zeros for fake labels\n",
    "        real_labels = torch.ones((input_data.size(0), 1), device=device)\n",
    "        fake_labels = torch.zeros((input_data.size(0), 1), device=device)\n",
    "\n",
    "        # Train discriminator with real data\n",
    "        optim_dis.zero_grad()\n",
    "        discriminator_output_real = discriminator(input_data, labels)\n",
    "        loss_discriminator_real = loss_function(discriminator_output_real, real_labels)\n",
    "        loss_discriminator_real.backward()\n",
    "        optim_dis.step()\n",
    "\n",
    "        # Train discriminator with generated data\n",
    "        noise = torch.randn((input_data.size(0), 100)).to(device)\n",
    "        gen_labels = torch.full((input_data.size(0),), 3, dtype=torch.long).to(device)\n",
    "        generated_data = generator(noise, gen_labels)\n",
    "\n",
    "        optim_dis.zero_grad()\n",
    "        discriminator_output_fake = discriminator(generated_data.detach(), gen_labels)\n",
    "        loss_discriminator_fake = loss_function(discriminator_output_fake, fake_labels)\n",
    "        loss_discriminator_fake.backward()\n",
    "        optim_dis.step()\n",
    "\n",
    "        # Train generator\n",
    "        optim_gen.zero_grad()\n",
    "        generator_output = generator(noise, gen_labels)\n",
    "        discriminator_output_gen = discriminator(generator_output, gen_labels)\n",
    "        loss_generator = loss_function(discriminator_output_gen, real_labels)\n",
    "        loss_generator.backward()\n",
    "        optim_gen.step()\n",
    "\n",
    "        # Print losses\n",
    "        if n == len(train_loader) - 1:\n",
    "            print(f'Epoch [{epoch+1}/{epochs}], ' +\n",
    "                  f'Discriminator Loss Real: {loss_discriminator_real.item():.4f}, ' +\n",
    "                  f'Discriminator Loss Fake: {loss_discriminator_fake.item():.4f}, ' +\n",
    "                  f'Generator Loss: {loss_generator.item():.4f}')\n"
   ]
  },
  {
   "cell_type": "markdown",
   "metadata": {},
   "source": [
    "# Save the model"
   ]
  },
  {
   "cell_type": "code",
   "execution_count": 14,
   "metadata": {},
   "outputs": [],
   "source": [
    "torch.save(generator.state_dict(), 'generator.pth')\n",
    "torch.save(discriminator.state_dict(), 'discriminator.pth')"
   ]
  },
  {
   "cell_type": "markdown",
   "metadata": {},
   "source": [
    "# Testing the Model"
   ]
  },
  {
   "cell_type": "code",
   "execution_count": 16,
   "metadata": {},
   "outputs": [],
   "source": [
    "generator.eval()\n",
    "batch_size = 1\n",
    "noise = torch.randn(batch_size, 100, device=device)\n",
    "gen_labels = torch.full((batch_size,), 3, dtype=torch.long, device=device)\n",
    "generated_data = generator(noise, gen_labels).squeeze().detach().cpu().numpy()\n",
    "\n",
    "# Convert to image and save\n",
    "image_array = (generated_data * 0.5 + 0.5) * 255  # Rescale to [0, 255]\n",
    "image_array = image_array.astype(np.uint8)\n",
    "image = Image.fromarray(image_array.squeeze(), mode='L')  # 'L' mode for grayscale\n",
    "image.save('generated_image.png')"
   ]
  }
 ],
 "metadata": {
  "kernelspec": {
   "display_name": "Python 3",
   "language": "python",
   "name": "python3"
  },
  "language_info": {
   "codemirror_mode": {
    "name": "ipython",
    "version": 3
   },
   "file_extension": ".py",
   "mimetype": "text/x-python",
   "name": "python",
   "nbconvert_exporter": "python",
   "pygments_lexer": "ipython3",
   "version": "3.12.2"
  }
 },
 "nbformat": 4,
 "nbformat_minor": 2
}
